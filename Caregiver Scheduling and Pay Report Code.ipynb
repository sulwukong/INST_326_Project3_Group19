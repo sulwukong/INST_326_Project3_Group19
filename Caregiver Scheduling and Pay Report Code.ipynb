{
 "cells": [
  {
   "cell_type": "code",
   "execution_count": 1,
   "id": "a7a5a319",
   "metadata": {},
   "outputs": [
    {
     "name": "stderr",
     "output_type": "stream",
     "text": [
      "INFO:root:Successfully assigned Kediel to AM shift.\n"
     ]
    },
    {
     "name": "stdout",
     "output_type": "stream",
     "text": [
      "Pay Report for Kediel:\n",
      "Hours Worked: 6\n",
      "Hourly Rate: $20\n",
      "Total Pay: $120\n",
      "\n",
      "Name: Kediel\n",
      "Phone: 410-814-8222\n",
      "Email: klam1237@umd.edu\n",
      "Availability: {'AM': 'preferred', 'PM': 'unavailable'}\n",
      "Hours Worked: 6\n",
      "Assigned Kediel to AM shift.\n"
     ]
    },
    {
     "data": {
      "text/plain": [
       "True"
      ]
     },
     "execution_count": 1,
     "metadata": {},
     "output_type": "execute_result"
    }
   ],
   "source": [
    "import logging\n",
    "\n",
    "# Set up logging\n",
    "logging.basicConfig(level=logging.DEBUG)\n",
    "\n",
    "class Caregiver:\n",
    "    def __init__(self, name, phone, email, pay_rate):\n",
    "        self.name = name\n",
    "        self.phone = phone\n",
    "        self.email = email\n",
    "        self.pay_rate = pay_rate\n",
    "        self.hours = 0  # Initial hours worked\n",
    "        self.availability = {\"AM\": \"available\", \"PM\": \"available\"}  \n",
    "    \n",
    "    def generate_pay_report(self):\n",
    "        \"\"\"Generate and format a pay report for the caregiver.\"\"\"\n",
    "        total_pay = self.hours * self.pay_rate\n",
    "        report = (f\"Pay Report for {self.name}:\\n\"\n",
    "                  f\"Hours Worked: {self.hours}\\n\"\n",
    "                  f\"Hourly Rate: ${self.pay_rate}\\n\"\n",
    "                  f\"Total Pay: ${total_pay}\\n\")\n",
    "        return report\n",
    "\n",
    "    def set_availability(self, shift, status):\n",
    "        \"\"\"Set availability status for a specific shift.\"\"\"\n",
    "        if shift in self.availability and status in [\"preferred\", \"available\", \"unavailable\"]:\n",
    "            self.availability[shift] = status\n",
    "        else:\n",
    "            print(\"Invalid input. Please enter a valid shift ('AM' or 'PM') and status ('preferred', 'available', 'unavailable').\")\n",
    "\n",
    "    def add_hours(self, hours):\n",
    "        \"\"\"Add hours worked for this caregiver.\"\"\"\n",
    "        if hours > 0:\n",
    "            self.hours += hours\n",
    "        else:\n",
    "            print(\"Please enter a positive number of hours.\")\n",
    "    \n",
    "    def reset_hours(self):\n",
    "        \"\"\"Reset hours worked to zero.\"\"\"\n",
    "        self.hours = 0\n",
    "    \n",
    "    def display_info(self):\n",
    "        \"\"\"Display the caregiver's details and current status.\"\"\"\n",
    "        print(f\"Name: {self.name}\")\n",
    "        print(f\"Phone: {self.phone}\")\n",
    "        print(f\"Email: {self.email}\")\n",
    "        print(f\"Availability: {self.availability}\")\n",
    "        print(f\"Hours Worked: {self.hours}\")\n",
    "\n",
    "class CaregiverManager:\n",
    "    def __init__(self):\n",
    "        self.caregivers = []\n",
    "    \n",
    "    def add_caregiver(self, caregiver):\n",
    "        \"\"\"Add a caregiver to the manager.\"\"\"\n",
    "        self.caregivers.append(caregiver)\n",
    "    \n",
    "    def find_caregiver(self, name):\n",
    "        \"\"\"Find a caregiver by name.\"\"\"\n",
    "        for caregiver in self.caregivers:\n",
    "            if caregiver.name == name:\n",
    "                return caregiver\n",
    "        return None\n",
    "    \n",
    "    def assign_shift(self, caregiver_name, shift):\n",
    "        \"\"\"Assign a caregiver to a shift based on their availability and preferences.\"\"\"\n",
    "        caregiver = self.find_caregiver(caregiver_name)\n",
    "        if caregiver:\n",
    "            if caregiver.availability.get(shift) in [\"available\", \"preferred\"]:\n",
    "                logging.info(f\"Successfully assigned {caregiver_name} to {shift} shift.\")\n",
    "                print(f\"Assigned {caregiver_name} to {shift} shift.\")\n",
    "                return True\n",
    "            else:\n",
    "                logging.warning(f\"{caregiver_name} is not available for the {shift} shift.\")\n",
    "                print(f\"{caregiver_name} is not available for the {shift} shift.\")\n",
    "                return False\n",
    "        else:\n",
    "            logging.error(f\"Caregiver {caregiver_name} not found.\")\n",
    "            print(f\"Caregiver {caregiver_name} not found.\")\n",
    "            return False\n",
    "\n",
    "caregiver1 = Caregiver(\"Kediel\", \"410-814-8222\", \"klam1237@umd.edu\", 20)\n",
    "caregiver1.set_availability(\"AM\", \"preferred\")\n",
    "caregiver1.set_availability(\"PM\", \"unavailable\")\n",
    "caregiver1.add_hours(6)\n",
    "\n",
    "# Generate pay report\n",
    "print(caregiver1.generate_pay_report())\n",
    "\n",
    "# Display caregiver information\n",
    "caregiver1.display_info()\n",
    "\n",
    "# Caregiver manager example\n",
    "manager = CaregiverManager()\n",
    "manager.add_caregiver(caregiver1)\n",
    "\n",
    "# Assign a shift to the caregiver\n",
    "manager.assign_shift(\"Kediel\", \"AM\")"
   ]
  },
  {
   "cell_type": "code",
   "execution_count": null,
   "id": "fe6a9bfb",
   "metadata": {},
   "outputs": [],
   "source": []
  }
 ],
 "metadata": {
  "kernelspec": {
   "display_name": "Python 3 (ipykernel)",
   "language": "python",
   "name": "python3"
  },
  "language_info": {
   "codemirror_mode": {
    "name": "ipython",
    "version": 3
   },
   "file_extension": ".py",
   "mimetype": "text/x-python",
   "name": "python",
   "nbconvert_exporter": "python",
   "pygments_lexer": "ipython3",
   "version": "3.11.5"
  }
 },
 "nbformat": 4,
 "nbformat_minor": 5
}

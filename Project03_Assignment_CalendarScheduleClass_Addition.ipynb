{
 "cells": [
  {
   "cell_type": "markdown",
   "id": "cddf5de3-a9f3-4471-bbaf-aca41a70ce89",
   "metadata": {},
   "source": [
    "### INST326 OOP Project 03"
   ]
  },
  {
   "cell_type": "markdown",
   "id": "2bb7f115-9eba-4f29-918e-b016e6a7edc8",
   "metadata": {},
   "source": [
    "Rename this notebook, replacing \"_Assignment\" with \"_YourName\"<br>\n",
    "Insert Signature Block Here"
   ]
  },
  {
   "cell_type": "markdown",
   "id": "8ee05bdb-db2d-41c2-9f23-3af75d058612",
   "metadata": {},
   "source": [
    "### The Project\n",
    "Everyone will do the same project this time. This is a group project, so you must work in your assigned groups. Include the link to your group's GitHub repository (one link per group). Use comments in your code to document your solution. If you need to write comments to the grader, add a markdown cell immediately above your code solution and add your comments there. Be sure to read and follow all the requirements and the Notebook Instructions at the bottom of this notebook. Your grade may depend on it!"
   ]
  },
  {
   "cell_type": "markdown",
   "id": "a1c98e85-2c64-4a03-8309-d91035cca6d2",
   "metadata": {},
   "source": [
    "#### 1. A Scheduling Program\n",
    ">  My wife is responsible for scheduling caregivers for her 93 year-old mother. Currently she writes out the schedule on a monthly calendar and photocopies it for everyone. I want all of you to help me write a program to help her with scheduling. While this is a specific application, this program will be broadly useful and adaptable to any scheduling needs for small businesses, clubs, and more."
   ]
  },
  {
   "cell_type": "markdown",
   "id": "28b28d8a-dbb3-4f15-bbe0-e14504b84876",
   "metadata": {},
   "source": [
    "#### Requirements\n",
    ">  Care is required 12 hours per day, 7 days a week. There are two shifts each day: 7:00 AM - 1:00 PM, and 1:00 PM to 7:00 PM. There are a total of 8 caregivers. Some are family members and some are paid. Each caregiver has their own availability for shifts that is generally the same from month to month, but there are exceptions for work, vacations, and other responsibilities. Your program should do the following:\n",
    "> 1. Manage caregivers and their schedules. Attributes include: name, phone, email, pay rate, and hours.\n",
    "> 2. Each caregiver should have their own availability schedule where they can indicate their availability for each shift. Availability categories are 'preferred', 'available' (default), and 'unavailable'.\n",
    "> 3. Create a care schedule that covers AM and PM shifts and displays caregiver names on a calendar (see example). The schedule should accomodate caregivers' individual schedules and availability preferences. The python calendar module provides options for creating HTML calendars. Sample code for the HTML calendar is in the project folder.\n",
    "> 4. Paid caregivers are paid weekly at $20/hr. Your program should calculate weekly pay based on assigned hours. Provide a separate pay report that lists weekly (gross: hours x rate) amounts to each caregiver, along with weekly and monthly totals. The report can be a text document, or presented in GUI or HTML format. "
   ]
  },
  {
   "cell_type": "markdown",
   "id": "6708f6cf-aac7-430e-947d-6f9c8dd161f6",
   "metadata": {
    "jp-MarkdownHeadingCollapsed": true
   },
   "source": [
    "#### Group Requirements\n",
    ">  1. Your submitted project should follow OOP principles like abstraction, encapsulation, inheritance, and polymorphism as appropriate. Your program should use classes. \n",
    ">  2. Select a group leader who will host the group's project repository on their GitHub.\n",
    ">  3. Create the group repository and add a main program document. See example.\n",
    ">  4. Create branches off the main program for each group member, and assign part of the program to each member.\n",
    ">  5. Each member should work on their branch.\n",
    ">  6. When each member is finished, merge the branches back into the main program. You may use 'merge' or 'pull requests', your choice.\n",
    ">  7. iterate and debug as necessary."
   ]
  },
  {
   "cell_type": "markdown",
   "id": "71b8f18e-607a-4c94-81a3-ebbc488ba8c6",
   "metadata": {},
   "source": [
    "#### Working with HTML\n",
    "> Since this is a course on python, not HTML, you are not expected to know HTML. Therefore, you may copy applicable portions of the sample code or use AI to write the HTML portions of your application. Ypu should write the main python code yourself.\n"
   ]
  },
  {
   "cell_type": "markdown",
   "id": "fc336368-4292-42af-aa60-06b27ff6b303",
   "metadata": {
    "jp-MarkdownHeadingCollapsed": true
   },
   "source": [
    "#### What you need to turn in\n",
    ">  This is a group project. There will be one submission per group. Your submission will be graded as a group.\n",
    ">  1. Include your group number and the names of all group members in the signature block at the top of this notebook.\n",
    ">  2. In the cell below, paste the link to your project repository. One link per group. The grader will review the activity and history provided by GitHub. To add a hyperlink to a Jupyter markdown cell, follow the instructions in the cell below.\n",
    ">  3. Below the GitHub Repository Link cell is a code cell. Copy and paste your final program code into this cell."
   ]
  },
  {
   "cell_type": "markdown",
   "id": "3ece03e6-a41f-484d-8417-d8c4e156b2c0",
   "metadata": {},
   "source": [
    "#### GitHub Repository Link\n",
    "> Example: [INST326_Fall2024/Projects/Project03](https://github.com/sdempwolf/INST326_Fall_2024/tree/main/Projects/Project03)\n",
    ">\n",
    "> Edit the link code below with your information, then run this cell. Test the link! It should take you to your GitHub project repository.\n",
    "> [external link text](http://url_here)"
   ]
  },
  {
   "cell_type": "code",
   "execution_count": 35,
   "id": "cb35b908-6683-4144-816c-051715925504",
   "metadata": {},
   "outputs": [],
   "source": [
    "# Solution - enter your code solution below\n"
   ]
  },
  {
   "cell_type": "markdown",
   "id": "ec8ddd19-87cd-475d-a07f-7dc8983dc636",
   "metadata": {},
   "source": [
    "### Notebook Instructions\n",
    "> Before turning in your notebook:\n",
    "> 1. Make sure you have renamed the notebook file as instructed\n",
    "> 2. Make sure you have included your signature block and that it is correct according to the instructions\n",
    "> 3. comment your code as necessary\n",
    "> 4. run all code cells and double check that they run correctly. If you can't get your code to run correctly and you want partial credit, add a note for the grader in a new markdown cell directly above your code solution.<br><br>\n",
    "Turn in your notebook by uploading it to ELMS<br>\n",
    "IF the exercises involve saved data files, put your notebook and the data file(s) in a zip folder and upload the zip folder to ELMS"
   ]
  },
  {
   "cell_type": "code",
   "execution_count": 46,
   "id": "58b7ea3b",
   "metadata": {},
   "outputs": [],
   "source": [
    "class Caregiver:\n",
    "    def __init__(self, name, phone, email, pay_rate):\n",
    "        self.name = name\n",
    "        self.phone = phone\n",
    "        self.email = email\n",
    "        self.pay_rate = pay_rate\n",
    "        self.hours = 0  # Initial hours worked\n",
    "        self.availability = {\"AM\": \"available\", \"PM\": \"available\"}  \n",
    "\n",
    "    def set_availability(self, shift, status):\n",
    "        \"\"\"Set availability status for a specific shift.\"\"\"\n",
    "        if shift in self.availability and status in [\"preferred\", \"available\", \"unavailable\"]:\n",
    "            self.availability[shift] = status\n",
    "        else:\n",
    "            print(\"Invalid input. Please enter a valid shift ('AM' or 'PM') and status ('preferred', 'available', 'unavailable').\")\n",
    "\n",
    "    def add_hours(self, hours):\n",
    "        \"\"\"Add hours worked for this caregiver.\"\"\"\n",
    "        if hours > 0:\n",
    "            self.hours += hours\n",
    "        else:\n",
    "            print(\"Please enter a positive number of hours.\")\n",
    "\n",
    "    def reset_hours(self):\n",
    "        \"\"\"Reset hours worked to zero.\"\"\"\n",
    "        self.hours = 0\n",
    "\n",
    "    def display_info(self):\n",
    "        \"\"\"Display the caregiver's details and current status.\"\"\"\n",
    "        print(f\"Name: {self.name}\")\n",
    "        print(f\"Phone: {self.phone}\")\n",
    "        print(f\"Email: {self.email}\")"
   ]
  },
  {
   "cell_type": "code",
   "execution_count": 47,
   "id": "153b2959",
   "metadata": {},
   "outputs": [
    {
     "name": "stdout",
     "output_type": "stream",
     "text": [
      "Name: Kediel\n",
      "Phone: 410-814-8222\n",
      "Email: klam1237@umd.edu\n",
      "Name: Kediel\n",
      "Phone: 410-814-8222\n",
      "Email: klam1237@umd.edu\n"
     ]
    }
   ],
   "source": [
    "caregiver1 = Caregiver(\"Kediel\", \"410-814-8222\", \"klam1237@umd.edu\", 20)\n",
    "\n",
    "caregiver1.set_availability(\"AM\", \"preferred\")\n",
    "caregiver1.set_availability(\"PM\", \"unavailable\")\n",
    "\n",
    "caregiver1.add_hours(6)\n",
    "\n",
    "# Display info to check if attributes are correct\n",
    "caregiver1.display_info()\n",
    "\n",
    "caregiver1.reset_hours()\n",
    "caregiver1.display_info()"
   ]
  },
  {
   "cell_type": "code",
   "execution_count": 48,
   "id": "ad83e957",
   "metadata": {},
   "outputs": [],
   "source": [
    "class CaregiverManager:\n",
    "    def __init__(self):\n",
    "        self.caregivers = []\n",
    "\n",
    "    def add_caregiver(self, caregiver):\n",
    "        \"\"\"Add a caregiver to the manager.\"\"\"\n",
    "        self.caregivers.append(caregiver)\n",
    "\n",
    "    def find_caregiver(self, name):\n",
    "        \"\"\"Find a caregiver by name.\"\"\"\n",
    "        for caregiver in self.caregivers:\n",
    "            if caregiver.name == name:\n",
    "                return caregiver\n",
    "        return None\n",
    "\n",
    "    def display_all_caregivers(self):\n",
    "        \"\"\"Display information for all caregivers.\"\"\"\n",
    "        for caregiver in self.caregivers:\n",
    "            caregiver.display_info()\n",
    "            print(\"-\" * 30)"
   ]
  },
  {
   "cell_type": "code",
   "execution_count": 28,
   "id": "1ba1c19e",
   "metadata": {},
   "outputs": [],
   "source": [
    "#ali's part below"
   ]
  },
  {
   "cell_type": "code",
   "execution_count": 49,
   "id": "8561fee8",
   "metadata": {},
   "outputs": [
    {
     "name": "stderr",
     "output_type": "stream",
     "text": [
      "C:\\Users\\Ali\\AppData\\Local\\Temp\\ipykernel_6248\\3762988807.py:2: DeprecationWarning: Importing display from IPython.core.display is deprecated since IPython 7.14, please import from IPython display\n",
      "  from IPython.core.display import display, HTML\n"
     ]
    }
   ],
   "source": [
    "import calendar\n",
    "from IPython.core.display import display, HTML\n",
    "\n",
    "class CalendarSchedule:\n",
    "    def __init__(self, year, month):\n",
    "        self.year = year\n",
    "        self.month = month\n",
    "        self.schedule = {}\n",
    "        self.first_weekday, self.num_days = calendar.monthrange(year, month)\n",
    "        # initialize schedule with empty shifts\n",
    "        for day in range(1, self.num_days + 1):\n",
    "            self.schedule[day] = {\n",
    "                \"7:00AM - 1:00PM\": None,\n",
    "                \"1:00PM - 7:00PM\": None\n",
    "            }\n",
    "\n",
    "    def assign_shift(self, day, shift, caregiver):\n",
    "        if self.schedule[day][shift] is None:\n",
    "            self.schedule[day][shift] = caregiver\n",
    "        else:\n",
    "            print(f\"{shift} on day {day} is already assigned.\")\n",
    "\n",
    "    def generate_schedule(self, caregivers):\n",
    "        current_caregiver = 0\n",
    "        shifts = [\"7:00AM - 1:00PM\", \"1:00PM - 7:00PM\"]\n",
    "        for day in range(1, self.num_days + 1):\n",
    "            for shift in shifts:\n",
    "                self.assign_shift(day, shift, caregivers[current_caregiver])\n",
    "                current_caregiver = (current_caregiver + 1) % len(caregivers)\n",
    "\n",
    "    def display_calendar(self):\n",
    "        html = f\"\"\"\n",
    "        <html>\n",
    "        <head>\n",
    "            <style>\n",
    "                table {{ border-collapse: collapse; width: 100%; text-align: center; }}\n",
    "                th, td {{ border: 1px solid black; padding: 10px; height: 100px; }}\n",
    "                th {{ background-color: #2c3e50; color: white; }}\n",
    "            </style>\n",
    "        </head>\n",
    "        <body>\n",
    "            <h1>Shift Schedule for {calendar.month_name[self.month]} {self.year}</h1>\n",
    "            <table>\n",
    "                <tr><th>Monday</th><th>Tuesday</th><th>Wednesday</th><th>Thursday</th><th>Friday</th><th>Saturday</th><th>Sunday</th></tr>\n",
    "        \"\"\"\n",
    "        \n",
    "        current_day = 1\n",
    "        html += \"<tr>\" + \"<td></td>\" * self.first_weekday\n",
    "\n",
    "        # fill calendar\n",
    "        while current_day <= self.num_days:\n",
    "            if current_day > 1 and (current_day + self.first_weekday - 1) % 7 == 0:\n",
    "                html += \"</tr><tr>\"\n",
    "            if current_day <= self.num_days:\n",
    "                shifts = self.schedule[current_day]\n",
    "                html += f\"\"\"\n",
    "                <td><b>{current_day}</b><br>\n",
    "                7:00AM - 1:00PM: {shifts['7:00AM - 1:00PM'].name if shifts['7:00AM - 1:00PM'] else 'Open'}<br>\n",
    "                1:00PM - 7:00PM: {shifts['1:00PM - 7:00PM'].name if shifts['1:00PM - 7:00PM'] else 'Open'}</td>\n",
    "                \"\"\"\n",
    "            else:\n",
    "                html += \"<td></td>\"\n",
    "            current_day += 1\n",
    "\n",
    "        html += \"</tr></table></body></html>\"\n",
    "        display(HTML(html))"
   ]
  },
  {
   "cell_type": "code",
   "execution_count": 50,
   "id": "15758879",
   "metadata": {},
   "outputs": [
    {
     "data": {
      "text/html": [
       "\n",
       "        <html>\n",
       "        <head>\n",
       "            <style>\n",
       "                table { border-collapse: collapse; width: 100%; text-align: center; }\n",
       "                th, td { border: 1px solid black; padding: 10px; height: 100px; }\n",
       "                th { background-color: #2c3e50; color: white; }\n",
       "            </style>\n",
       "        </head>\n",
       "        <body>\n",
       "            <h1>Shift Schedule for November 2024</h1>\n",
       "            <table>\n",
       "                <tr><th>Monday</th><th>Tuesday</th><th>Wednesday</th><th>Thursday</th><th>Friday</th><th>Saturday</th><th>Sunday</th></tr>\n",
       "        <tr><td></td><td></td><td></td><td></td>\n",
       "                <td><b>1</b><br>\n",
       "                7:00AM - 1:00PM: Linda<br>\n",
       "                1:00PM - 7:00PM: Paul</td>\n",
       "                \n",
       "                <td><b>2</b><br>\n",
       "                7:00AM - 1:00PM: Nina<br>\n",
       "                1:00PM - 7:00PM: Oliver</td>\n",
       "                \n",
       "                <td><b>3</b><br>\n",
       "                7:00AM - 1:00PM: Sophia<br>\n",
       "                1:00PM - 7:00PM: Ethan</td>\n",
       "                </tr><tr>\n",
       "                <td><b>4</b><br>\n",
       "                7:00AM - 1:00PM: Maya<br>\n",
       "                1:00PM - 7:00PM: Jack</td>\n",
       "                \n",
       "                <td><b>5</b><br>\n",
       "                7:00AM - 1:00PM: Linda<br>\n",
       "                1:00PM - 7:00PM: Paul</td>\n",
       "                \n",
       "                <td><b>6</b><br>\n",
       "                7:00AM - 1:00PM: Nina<br>\n",
       "                1:00PM - 7:00PM: Oliver</td>\n",
       "                \n",
       "                <td><b>7</b><br>\n",
       "                7:00AM - 1:00PM: Sophia<br>\n",
       "                1:00PM - 7:00PM: Ethan</td>\n",
       "                \n",
       "                <td><b>8</b><br>\n",
       "                7:00AM - 1:00PM: Maya<br>\n",
       "                1:00PM - 7:00PM: Jack</td>\n",
       "                \n",
       "                <td><b>9</b><br>\n",
       "                7:00AM - 1:00PM: Linda<br>\n",
       "                1:00PM - 7:00PM: Paul</td>\n",
       "                \n",
       "                <td><b>10</b><br>\n",
       "                7:00AM - 1:00PM: Nina<br>\n",
       "                1:00PM - 7:00PM: Oliver</td>\n",
       "                </tr><tr>\n",
       "                <td><b>11</b><br>\n",
       "                7:00AM - 1:00PM: Sophia<br>\n",
       "                1:00PM - 7:00PM: Ethan</td>\n",
       "                \n",
       "                <td><b>12</b><br>\n",
       "                7:00AM - 1:00PM: Maya<br>\n",
       "                1:00PM - 7:00PM: Jack</td>\n",
       "                \n",
       "                <td><b>13</b><br>\n",
       "                7:00AM - 1:00PM: Linda<br>\n",
       "                1:00PM - 7:00PM: Paul</td>\n",
       "                \n",
       "                <td><b>14</b><br>\n",
       "                7:00AM - 1:00PM: Nina<br>\n",
       "                1:00PM - 7:00PM: Oliver</td>\n",
       "                \n",
       "                <td><b>15</b><br>\n",
       "                7:00AM - 1:00PM: Sophia<br>\n",
       "                1:00PM - 7:00PM: Ethan</td>\n",
       "                \n",
       "                <td><b>16</b><br>\n",
       "                7:00AM - 1:00PM: Maya<br>\n",
       "                1:00PM - 7:00PM: Jack</td>\n",
       "                \n",
       "                <td><b>17</b><br>\n",
       "                7:00AM - 1:00PM: Linda<br>\n",
       "                1:00PM - 7:00PM: Paul</td>\n",
       "                </tr><tr>\n",
       "                <td><b>18</b><br>\n",
       "                7:00AM - 1:00PM: Nina<br>\n",
       "                1:00PM - 7:00PM: Oliver</td>\n",
       "                \n",
       "                <td><b>19</b><br>\n",
       "                7:00AM - 1:00PM: Sophia<br>\n",
       "                1:00PM - 7:00PM: Ethan</td>\n",
       "                \n",
       "                <td><b>20</b><br>\n",
       "                7:00AM - 1:00PM: Maya<br>\n",
       "                1:00PM - 7:00PM: Jack</td>\n",
       "                \n",
       "                <td><b>21</b><br>\n",
       "                7:00AM - 1:00PM: Linda<br>\n",
       "                1:00PM - 7:00PM: Paul</td>\n",
       "                \n",
       "                <td><b>22</b><br>\n",
       "                7:00AM - 1:00PM: Nina<br>\n",
       "                1:00PM - 7:00PM: Oliver</td>\n",
       "                \n",
       "                <td><b>23</b><br>\n",
       "                7:00AM - 1:00PM: Sophia<br>\n",
       "                1:00PM - 7:00PM: Ethan</td>\n",
       "                \n",
       "                <td><b>24</b><br>\n",
       "                7:00AM - 1:00PM: Maya<br>\n",
       "                1:00PM - 7:00PM: Jack</td>\n",
       "                </tr><tr>\n",
       "                <td><b>25</b><br>\n",
       "                7:00AM - 1:00PM: Linda<br>\n",
       "                1:00PM - 7:00PM: Paul</td>\n",
       "                \n",
       "                <td><b>26</b><br>\n",
       "                7:00AM - 1:00PM: Nina<br>\n",
       "                1:00PM - 7:00PM: Oliver</td>\n",
       "                \n",
       "                <td><b>27</b><br>\n",
       "                7:00AM - 1:00PM: Sophia<br>\n",
       "                1:00PM - 7:00PM: Ethan</td>\n",
       "                \n",
       "                <td><b>28</b><br>\n",
       "                7:00AM - 1:00PM: Maya<br>\n",
       "                1:00PM - 7:00PM: Jack</td>\n",
       "                \n",
       "                <td><b>29</b><br>\n",
       "                7:00AM - 1:00PM: Linda<br>\n",
       "                1:00PM - 7:00PM: Paul</td>\n",
       "                \n",
       "                <td><b>30</b><br>\n",
       "                7:00AM - 1:00PM: Nina<br>\n",
       "                1:00PM - 7:00PM: Oliver</td>\n",
       "                </tr></table></body></html>"
      ],
      "text/plain": [
       "<IPython.core.display.HTML object>"
      ]
     },
     "metadata": {},
     "output_type": "display_data"
    }
   ],
   "source": [
    "# some temporary example caregivers\n",
    "caregivers = [\n",
    "    Caregiver(\"Linda\", \"555-1212\", \"linda@example.com\", 20),\n",
    "    Caregiver(\"Paul\", \"555-3434\", \"paul@example.com\", 18),\n",
    "    Caregiver(\"Nina\", \"555-5656\", \"nina@example.com\", 22),\n",
    "    Caregiver(\"Oliver\", \"555-7878\", \"oliver@example.com\", 25),\n",
    "    Caregiver(\"Sophia\", \"555-9090\", \"sophia@example.com\", 19),\n",
    "    Caregiver(\"Ethan\", \"555-2323\", \"ethan@example.com\", 21),\n",
    "    Caregiver(\"Maya\", \"555-4545\", \"maya@example.com\", 20),\n",
    "    Caregiver(\"Jack\", \"555-6767\", \"jack@example.com\", 24),\n",
    "]\n",
    "\n",
    "# exception for potential unavailability\n",
    "caregivers[2].set_availability(\"AM\", \"unavailable\")  # nina's unavailable for am shifts\n",
    "\n",
    "# initialize the schedule for november 2024\n",
    "calendar_schedule = CalendarSchedule(2024, 11)\n",
    "\n",
    "# generate the schedule\n",
    "calendar_schedule.generate_schedule(caregivers)\n",
    "\n",
    "# display \n",
    "calendar_schedule.display_calendar()\n"
   ]
  }
 ],
 "metadata": {
  "kernelspec": {
   "display_name": "base",
   "language": "python",
   "name": "python3"
  },
  "language_info": {
   "codemirror_mode": {
    "name": "ipython",
    "version": 3
   },
   "file_extension": ".py",
   "mimetype": "text/x-python",
   "name": "python",
   "nbconvert_exporter": "python",
   "pygments_lexer": "ipython3",
   "version": "3.11.5"
  }
 },
 "nbformat": 4,
 "nbformat_minor": 5
}
